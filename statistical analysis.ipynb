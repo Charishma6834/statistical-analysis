{
 "cells": [
  {
   "cell_type": "markdown",
   "id": "58dc5d49-c966-47df-879f-c833306c952d",
   "metadata": {},
   "source": [
    "# STATISTICAL ANALYSIS IN PYTHON WITH REAL-WORLD DATASETS"
   ]
  },
  {
   "cell_type": "markdown",
   "id": "3399c7c5-f676-4223-83b1-56c352f1e140",
   "metadata": {},
   "source": [
    "Statistical analysis is key to data science and machine learning, helping you extract insights, make predictions, and support decisions. Now, we'll:\n",
    "\n",
    "- Use Python Libraries : Explore statistical methods with pandas, numpy, and scipy.\n",
    "- Work with Datasets : Analyze the built-in Diabetes dataset from scikit-learn, and datasets from Kaggle and the UCI Machine Learning Repository.\n",
    "\n",
    "This shows how to perform and interpret basic statistical analyses to draw meaningful conclusions from data."
   ]
  },
  {
   "cell_type": "markdown",
   "id": "688a5aa5-8910-4c95-8d6d-3e2f3af1bd54",
   "metadata": {},
   "source": [
    "SOME FUNDAMENTAL CONCEPTS :\n",
    " -"
   ]
  },
  {
   "cell_type": "markdown",
   "id": "2946ac59-7553-4858-852a-9a6ea779f865",
   "metadata": {},
   "source": [
    "POPULATION : The entire set of individuals or items that you're interested in studying. It includes all possible observations or measurements for a particular characteristic. For example, if you're studying the heights of all adults in a country, the population would be all adults in that country.\n",
    "\n",
    "SAMPLE : A subset of the population selected for analysis. It's used when it's impractical or impossible to collect data from the entire population. The sample should ideally represent the population well, allowing you to make inferences or draw conclusions about the population based on the sample. For instance, if you take a survey of 1,000 adults from different regions of the country, this group is your sample."
   ]
  },
  {
   "cell_type": "markdown",
   "id": "d1e3506c-5756-43a4-bfc9-82cc1318c0c5",
   "metadata": {},
   "source": [
    "- NEED FOR SAMPLING : \n",
    "\n",
    " 1. COST-EFFECTIVE : Reduces the expense of data collection.\n",
    " 2. TIME-SAVING: Allows for quicker data analysis compared to studying an entire population.\n",
    " 3. PRACTICALITY: Makes data collection feasible when it's impractical to survey the whole population.\n",
    "\n",
    "- BENIFITS OF SAMPLING :\n",
    "  \n",
    " 1. RESOURCE EFFICIENCY : Saves money and time while still providing valuable insights.\n",
    " 2. MANAGEABLE DATA : Eases the complexity of data handling and analysis.\n",
    " 3. TIMELY INSIGHTS : Facilitates quicker decision-making based on the sample's findings.\n",
    " 4. ACCURATE ESTIMATES : When done correctly, sampling can provide accurate and reliable estimates about the population.\n",
    "In essence, sampling helps to efficiently gather and analyze data, making it a practical choice for deriving insights and making informed decisions."
   ]
  },
  {
   "cell_type": "markdown",
   "id": "9e7fcdd6-21f7-4f9b-8e74-7db472eb0541",
   "metadata": {},
   "source": [
    "BASIC STATISTICAL METHODS :\n",
    " -"
   ]
  },
  {
   "cell_type": "markdown",
   "id": "0be65528-71be-47b6-ac89-c725a3b7efb9",
   "metadata": {},
   "source": [
    "- DESCRIPTIVE STATISTICS :"
   ]
  },
  {
   "cell_type": "markdown",
   "id": "583b59fa-dee6-46cf-bb7a-ce4f6b3f9ee8",
   "metadata": {},
   "source": [
    "Descriptive statistics are techniques used to summarize and describe the main features of a dataset. They provide a snapshot of the data, making it easier to understand and interpret. Here are some key components of descriptive statistics:\n",
    "\n",
    "MEASURES OF CENTRAL TENDENCY :\n",
    "\n",
    "1. Mean : The average value of the dataset.\n",
    "2. Median : The middle value when the data is sorted in ascending order.\n",
    "3. Mode : The most frequently occurring value in the dataset.\n",
    " \n",
    "MEASURES OF DISPERSION :\n",
    "\n",
    "4. Range : The difference between the maximum and minimum values.\n",
    "5. Viariance : The average squared deviation from the mean.\n",
    "6. Standard Deviation : The square root of the variance, indicating the spread of data around the mean.\n",
    "\n",
    "MEASURES OF SHAPE :\n",
    "\n",
    "7. Skewness : Indicates the asymmetry of the data distribution.\n",
    "8. Kurtosis : Measures the \"tailedness\" or peak of the data distribution.\n",
    "PERCENTILES AND QUARTILES :\n",
    "10. Percentiles : Values below which a certain percentage of the data falls.\n",
    "11. Quartiles : Divide the data into four equal parts, including the first quartile (25th percentile), median (50th percentile), and third quartile (75th percentile).\n",
    "\n",
    "FREQUENCY DISTRIBUTION :\n",
    "\n",
    "12. Frequency Tables : Show how often each value occurs in the dataset.\n",
    "13. Histograms : Visual representations of frequency distributions.\n",
    "    \n",
    "Descriptive statistics help summarize and present the main characteristics of a dataset in a meaningful way, facilitating better understanding and initial insights.\n",
    "\n",
    "\n",
    "\n",
    "\n",
    "\n",
    "     "
   ]
  },
  {
   "cell_type": "markdown",
   "id": "12cf4e98-2f51-47ef-9e66-8cf0fd7c14db",
   "metadata": {},
   "source": [
    "- INFERENTIAL STATISTICS :"
   ]
  },
  {
   "cell_type": "markdown",
   "id": "e10c2ee2-d57e-407f-a23c-02ee9e3f1530",
   "metadata": {},
   "source": [
    "Inferential statistics involves using data from a sample to make generalizations or predictions about a population. It extends beyond descriptive statistics by making inferences or drawing conclusions based on statistical analyses. Here are key components of inferential statistics:\n",
    "\n",
    "HYPOTHESIS TESTING :\n",
    "\n",
    "1. Null Hypothesis (H₀) : A statement that there is no effect or no difference, used as a baseline for comparison.\n",
    "2. Alternative Hypothesis (H₁) : A statement that there is an effect or a difference.\n",
    "3. P-Value : The probability of observing the data given that the null hypothesis is true. A low p-value indicates strong evidence against the null hypothesis.\n",
    "\n",
    "CONFIDENCE INTERVALS :\n",
    "\n",
    "A range of values, derived from a sample, that is likely to contain the population parameter with a specified level of confidence (e.g., 95% confidence interval).\n",
    "\n",
    "ESTIMATION :\n",
    "\n",
    "1. Point Estimate : A single value estimate of a population parameter (e.g., sample mean as an estimate of the population mean).\n",
    "2. Interval Estimate : A range of values within which the population parameter is expected to lie.\n",
    "\n",
    "REGRESSION ANALYSIS :\n",
    "\n",
    "1. Linear Regression : Models the relationship between a dependent variable and one or more independent variables, used for prediction and understanding relationships.\n",
    "2. Multiple Regression : Extends linear regression to include multiple independent variables.\n",
    "\n",
    "ANOVA (Analysis of Variance) :\n",
    "\n",
    "Tests if there are significant differences between the means of three or more groups.\n",
    "\n",
    "CORRELATION :\n",
    "\n",
    "Measures the strength and direction of the relationship between two variables.\n",
    "\n",
    "SAMPLING DISTRIBUTIONS :\n",
    "\n",
    "Describes how a sample statistic (e.g., sample mean) would vary from sample to sample if multiple samples were taken from the same population.\n",
    "Inferential statistics allows you to make predictions, test hypotheses, and draw conclusions about a population based on sample data, providing a way to understand broader trends and relationships.    "
   ]
  },
  {
   "cell_type": "markdown",
   "id": "97e47efe-9b80-4343-99a2-726e3e41c4dd",
   "metadata": {},
   "source": [
    "SAMPLE STATISTICAL ANALYSIS :\n",
    "-"
   ]
  },
  {
   "cell_type": "markdown",
   "id": "0cf88639-c09b-4571-819c-f2093821afbf",
   "metadata": {},
   "source": [
    "- IMPORTING REQUIRED PACKAGES AND MODULES :"
   ]
  },
  {
   "cell_type": "code",
   "execution_count": 23,
   "id": "1e36b107-e22c-48aa-8428-f5c5688ef0cc",
   "metadata": {},
   "outputs": [
    {
     "name": "stdout",
     "output_type": "stream",
     "text": [
      "Defaulting to user installation because normal site-packages is not writeable\n",
      "Requirement already satisfied: scipy in c:\\users\\lenovo\\appdata\\local\\packages\\pythonsoftwarefoundation.python.3.12_qbz5n2kfra8p0\\localcache\\local-packages\\python312\\site-packages (1.14.1)\n",
      "Requirement already satisfied: numpy<2.3,>=1.23.5 in c:\\users\\lenovo\\appdata\\local\\packages\\pythonsoftwarefoundation.python.3.12_qbz5n2kfra8p0\\localcache\\local-packages\\python312\\site-packages (from scipy) (2.1.0)\n",
      "Note: you may need to restart the kernel to use updated packages.\n"
     ]
    }
   ],
   "source": [
    "pip install scipy"
   ]
  },
  {
   "cell_type": "code",
   "execution_count": 25,
   "id": "9f4fab80-fc16-466b-a487-30434d01cebc",
   "metadata": {
    "scrolled": true
   },
   "outputs": [
    {
     "name": "stdout",
     "output_type": "stream",
     "text": [
      "Defaulting to user installation because normal site-packages is not writeable\n",
      "Collecting statsmodels\n",
      "  Downloading statsmodels-0.14.2-cp312-cp312-win_amd64.whl.metadata (9.5 kB)\n",
      "Requirement already satisfied: numpy>=1.22.3 in c:\\users\\lenovo\\appdata\\local\\packages\\pythonsoftwarefoundation.python.3.12_qbz5n2kfra8p0\\localcache\\local-packages\\python312\\site-packages (from statsmodels) (2.1.0)\n",
      "Requirement already satisfied: scipy!=1.9.2,>=1.8 in c:\\users\\lenovo\\appdata\\local\\packages\\pythonsoftwarefoundation.python.3.12_qbz5n2kfra8p0\\localcache\\local-packages\\python312\\site-packages (from statsmodels) (1.14.1)\n",
      "Requirement already satisfied: pandas!=2.1.0,>=1.4 in c:\\users\\lenovo\\appdata\\local\\packages\\pythonsoftwarefoundation.python.3.12_qbz5n2kfra8p0\\localcache\\local-packages\\python312\\site-packages (from statsmodels) (2.2.2)\n",
      "Collecting patsy>=0.5.6 (from statsmodels)\n",
      "  Downloading patsy-0.5.6-py2.py3-none-any.whl.metadata (3.5 kB)\n",
      "Requirement already satisfied: packaging>=21.3 in c:\\users\\lenovo\\appdata\\local\\packages\\pythonsoftwarefoundation.python.3.12_qbz5n2kfra8p0\\localcache\\local-packages\\python312\\site-packages (from statsmodels) (24.1)\n",
      "Requirement already satisfied: python-dateutil>=2.8.2 in c:\\users\\lenovo\\appdata\\local\\packages\\pythonsoftwarefoundation.python.3.12_qbz5n2kfra8p0\\localcache\\local-packages\\python312\\site-packages (from pandas!=2.1.0,>=1.4->statsmodels) (2.9.0.post0)\n",
      "Requirement already satisfied: pytz>=2020.1 in c:\\users\\lenovo\\appdata\\local\\packages\\pythonsoftwarefoundation.python.3.12_qbz5n2kfra8p0\\localcache\\local-packages\\python312\\site-packages (from pandas!=2.1.0,>=1.4->statsmodels) (2024.1)\n",
      "Requirement already satisfied: tzdata>=2022.7 in c:\\users\\lenovo\\appdata\\local\\packages\\pythonsoftwarefoundation.python.3.12_qbz5n2kfra8p0\\localcache\\local-packages\\python312\\site-packages (from pandas!=2.1.0,>=1.4->statsmodels) (2024.1)\n",
      "Requirement already satisfied: six in c:\\users\\lenovo\\appdata\\local\\packages\\pythonsoftwarefoundation.python.3.12_qbz5n2kfra8p0\\localcache\\local-packages\\python312\\site-packages (from patsy>=0.5.6->statsmodels) (1.16.0)\n",
      "Downloading statsmodels-0.14.2-cp312-cp312-win_amd64.whl (9.8 MB)\n",
      "   ---------------------------------------- 0.0/9.8 MB ? eta -:--:--\n",
      "   ---------------------------------------- 0.0/9.8 MB ? eta -:--:--\n",
      "   - -------------------------------------- 0.3/9.8 MB ? eta -:--:--\n",
      "   --- ------------------------------------ 0.8/9.8 MB 1.9 MB/s eta 0:00:05\n",
      "   ---- ----------------------------------- 1.0/9.8 MB 1.9 MB/s eta 0:00:05\n",
      "   ------ --------------------------------- 1.6/9.8 MB 2.0 MB/s eta 0:00:05\n",
      "   -------- ------------------------------- 2.1/9.8 MB 1.9 MB/s eta 0:00:05\n",
      "   --------- ------------------------------ 2.4/9.8 MB 1.8 MB/s eta 0:00:05\n",
      "   ---------- ----------------------------- 2.6/9.8 MB 1.8 MB/s eta 0:00:05\n",
      "   ----------- ---------------------------- 2.9/9.8 MB 1.7 MB/s eta 0:00:05\n",
      "   ------------ --------------------------- 3.1/9.8 MB 1.6 MB/s eta 0:00:05\n",
      "   ------------ --------------------------- 3.1/9.8 MB 1.6 MB/s eta 0:00:05\n",
      "   ------------- -------------------------- 3.4/9.8 MB 1.5 MB/s eta 0:00:05\n",
      "   -------------- ------------------------- 3.7/9.8 MB 1.4 MB/s eta 0:00:05\n",
      "   ---------------- ----------------------- 3.9/9.8 MB 1.4 MB/s eta 0:00:05\n",
      "   ---------------- ----------------------- 3.9/9.8 MB 1.4 MB/s eta 0:00:05\n",
      "   ----------------- ---------------------- 4.2/9.8 MB 1.4 MB/s eta 0:00:05\n",
      "   ------------------ --------------------- 4.5/9.8 MB 1.3 MB/s eta 0:00:05\n",
      "   ------------------ --------------------- 4.5/9.8 MB 1.3 MB/s eta 0:00:05\n",
      "   ------------------- -------------------- 4.7/9.8 MB 1.2 MB/s eta 0:00:05\n",
      "   ------------------- -------------------- 4.7/9.8 MB 1.2 MB/s eta 0:00:05\n",
      "   -------------------- ------------------- 5.0/9.8 MB 1.2 MB/s eta 0:00:05\n",
      "   -------------------- ------------------- 5.0/9.8 MB 1.2 MB/s eta 0:00:05\n",
      "   --------------------- ------------------ 5.2/9.8 MB 1.1 MB/s eta 0:00:05\n",
      "   --------------------- ------------------ 5.2/9.8 MB 1.1 MB/s eta 0:00:05\n",
      "   ---------------------- ----------------- 5.5/9.8 MB 1.1 MB/s eta 0:00:05\n",
      "   ---------------------- ----------------- 5.5/9.8 MB 1.1 MB/s eta 0:00:05\n",
      "   ---------------------- ----------------- 5.5/9.8 MB 1.1 MB/s eta 0:00:05\n",
      "   ---------------------- ----------------- 5.5/9.8 MB 1.1 MB/s eta 0:00:05\n",
      "   ----------------------- ---------------- 5.8/9.8 MB 949.6 kB/s eta 0:00:05\n",
      "   ----------------------- ---------------- 5.8/9.8 MB 949.6 kB/s eta 0:00:05\n",
      "   ----------------------- ---------------- 5.8/9.8 MB 949.6 kB/s eta 0:00:05\n",
      "   ----------------------- ---------------- 5.8/9.8 MB 949.6 kB/s eta 0:00:05\n",
      "   ----------------------- ---------------- 5.8/9.8 MB 949.6 kB/s eta 0:00:05\n",
      "   ----------------------- ---------------- 5.8/9.8 MB 949.6 kB/s eta 0:00:05\n",
      "   ------------------------ --------------- 6.0/9.8 MB 818.4 kB/s eta 0:00:05\n",
      "   ------------------------ --------------- 6.0/9.8 MB 818.4 kB/s eta 0:00:05\n",
      "   ------------------------ --------------- 6.0/9.8 MB 818.4 kB/s eta 0:00:05\n",
      "   ------------------------ --------------- 6.0/9.8 MB 818.4 kB/s eta 0:00:05\n",
      "   ------------------------ --------------- 6.0/9.8 MB 818.4 kB/s eta 0:00:05\n",
      "   ------------------------ --------------- 6.0/9.8 MB 818.4 kB/s eta 0:00:05\n",
      "   ------------------------ --------------- 6.0/9.8 MB 818.4 kB/s eta 0:00:05\n",
      "   ------------------------ --------------- 6.0/9.8 MB 818.4 kB/s eta 0:00:05\n",
      "   ------------------------ --------------- 6.0/9.8 MB 818.4 kB/s eta 0:00:05\n",
      "   ------------------------- -------------- 6.3/9.8 MB 680.6 kB/s eta 0:00:06\n",
      "   ------------------------- -------------- 6.3/9.8 MB 680.6 kB/s eta 0:00:06\n",
      "   ------------------------- -------------- 6.3/9.8 MB 680.6 kB/s eta 0:00:06\n",
      "   ------------------------- -------------- 6.3/9.8 MB 680.6 kB/s eta 0:00:06\n",
      "   ------------------------- -------------- 6.3/9.8 MB 680.6 kB/s eta 0:00:06\n",
      "   ------------------------- -------------- 6.3/9.8 MB 680.6 kB/s eta 0:00:06\n",
      "   ------------------------- -------------- 6.3/9.8 MB 680.6 kB/s eta 0:00:06\n",
      "   ------------------------- -------------- 6.3/9.8 MB 680.6 kB/s eta 0:00:06\n",
      "   ------------------------- -------------- 6.3/9.8 MB 680.6 kB/s eta 0:00:06\n",
      "   ------------------------- -------------- 6.3/9.8 MB 680.6 kB/s eta 0:00:06\n",
      "   ------------------------- -------------- 6.3/9.8 MB 680.6 kB/s eta 0:00:06\n",
      "   ------------------------- -------------- 6.3/9.8 MB 680.6 kB/s eta 0:00:06\n",
      "   ------------------------- -------------- 6.3/9.8 MB 680.6 kB/s eta 0:00:06\n",
      "   ------------------------- -------------- 6.3/9.8 MB 680.6 kB/s eta 0:00:06\n",
      "   ------------------------- -------------- 6.3/9.8 MB 680.6 kB/s eta 0:00:06\n",
      "   ------------------------- -------------- 6.3/9.8 MB 680.6 kB/s eta 0:00:06\n",
      "   ------------------------- -------------- 6.3/9.8 MB 680.6 kB/s eta 0:00:06\n",
      "   ------------------------- -------------- 6.3/9.8 MB 680.6 kB/s eta 0:00:06\n",
      "   ------------------------- -------------- 6.3/9.8 MB 680.6 kB/s eta 0:00:06\n",
      "   ------------------------- -------------- 6.3/9.8 MB 680.6 kB/s eta 0:00:06\n",
      "   ------------------------- -------------- 6.3/9.8 MB 680.6 kB/s eta 0:00:06\n",
      "   -------------------------- ------------- 6.6/9.8 MB 466.0 kB/s eta 0:00:08\n",
      "   -------------------------- ------------- 6.6/9.8 MB 466.0 kB/s eta 0:00:08\n",
      "   -------------------------- ------------- 6.6/9.8 MB 466.0 kB/s eta 0:00:08\n",
      "   -------------------------- ------------- 6.6/9.8 MB 466.0 kB/s eta 0:00:08\n",
      "   -------------------------- ------------- 6.6/9.8 MB 466.0 kB/s eta 0:00:08\n",
      "   -------------------------- ------------- 6.6/9.8 MB 466.0 kB/s eta 0:00:08\n",
      "   -------------------------- ------------- 6.6/9.8 MB 466.0 kB/s eta 0:00:08\n",
      "   -------------------------- ------------- 6.6/9.8 MB 466.0 kB/s eta 0:00:08\n",
      "   -------------------------- ------------- 6.6/9.8 MB 466.0 kB/s eta 0:00:08\n",
      "   -------------------------- ------------- 6.6/9.8 MB 466.0 kB/s eta 0:00:08\n",
      "   --------------------------- ------------ 6.8/9.8 MB 419.0 kB/s eta 0:00:08\n",
      "   --------------------------- ------------ 6.8/9.8 MB 419.0 kB/s eta 0:00:08\n",
      "   --------------------------- ------------ 6.8/9.8 MB 419.0 kB/s eta 0:00:08\n",
      "   --------------------------- ------------ 6.8/9.8 MB 419.0 kB/s eta 0:00:08\n",
      "   --------------------------- ------------ 6.8/9.8 MB 419.0 kB/s eta 0:00:08\n",
      "   ---------------------------- ----------- 7.1/9.8 MB 411.9 kB/s eta 0:00:07\n",
      "   ---------------------------- ----------- 7.1/9.8 MB 411.9 kB/s eta 0:00:07\n",
      "   ---------------------------- ----------- 7.1/9.8 MB 411.9 kB/s eta 0:00:07\n",
      "   ---------------------------- ----------- 7.1/9.8 MB 411.9 kB/s eta 0:00:07\n",
      "   ---------------------------- ----------- 7.1/9.8 MB 411.9 kB/s eta 0:00:07\n",
      "   ----------------------------- ---------- 7.3/9.8 MB 398.1 kB/s eta 0:00:07\n",
      "   ----------------------------- ---------- 7.3/9.8 MB 398.1 kB/s eta 0:00:07\n",
      "   ----------------------------- ---------- 7.3/9.8 MB 398.1 kB/s eta 0:00:07\n",
      "   ----------------------------- ---------- 7.3/9.8 MB 398.1 kB/s eta 0:00:07\n",
      "   ----------------------------- ---------- 7.3/9.8 MB 398.1 kB/s eta 0:00:07\n",
      "   ----------------------------- ---------- 7.3/9.8 MB 398.1 kB/s eta 0:00:07\n",
      "   ----------------------------- ---------- 7.3/9.8 MB 398.1 kB/s eta 0:00:07\n",
      "   ----------------------------- ---------- 7.3/9.8 MB 398.1 kB/s eta 0:00:07\n",
      "   ----------------------------- ---------- 7.3/9.8 MB 398.1 kB/s eta 0:00:07\n",
      "   ------------------------------ --------- 7.6/9.8 MB 375.8 kB/s eta 0:00:06\n",
      "   ------------------------------ --------- 7.6/9.8 MB 375.8 kB/s eta 0:00:06\n",
      "   ------------------------------ --------- 7.6/9.8 MB 375.8 kB/s eta 0:00:06\n",
      "   ------------------------------ --------- 7.6/9.8 MB 375.8 kB/s eta 0:00:06\n",
      "   ------------------------------ --------- 7.6/9.8 MB 375.8 kB/s eta 0:00:06\n",
      "   ------------------------------ --------- 7.6/9.8 MB 375.8 kB/s eta 0:00:06\n",
      "   ------------------------------ --------- 7.6/9.8 MB 375.8 kB/s eta 0:00:06\n",
      "   ------------------------------ --------- 7.6/9.8 MB 375.8 kB/s eta 0:00:06\n",
      "   -------------------------------- ------- 7.9/9.8 MB 356.2 kB/s eta 0:00:06\n",
      "   -------------------------------- ------- 7.9/9.8 MB 356.2 kB/s eta 0:00:06\n",
      "   -------------------------------- ------- 7.9/9.8 MB 356.2 kB/s eta 0:00:06\n",
      "   -------------------------------- ------- 7.9/9.8 MB 356.2 kB/s eta 0:00:06\n",
      "   -------------------------------- ------- 7.9/9.8 MB 356.2 kB/s eta 0:00:06\n",
      "   -------------------------------- ------- 7.9/9.8 MB 356.2 kB/s eta 0:00:06\n",
      "   --------------------------------- ------ 8.1/9.8 MB 347.4 kB/s eta 0:00:05\n",
      "   --------------------------------- ------ 8.1/9.8 MB 347.4 kB/s eta 0:00:05\n",
      "   --------------------------------- ------ 8.1/9.8 MB 347.4 kB/s eta 0:00:05\n",
      "   --------------------------------- ------ 8.1/9.8 MB 347.4 kB/s eta 0:00:05\n",
      "   --------------------------------- ------ 8.1/9.8 MB 347.4 kB/s eta 0:00:05\n",
      "   --------------------------------- ------ 8.1/9.8 MB 347.4 kB/s eta 0:00:05\n",
      "   --------------------------------- ------ 8.1/9.8 MB 347.4 kB/s eta 0:00:05\n",
      "   --------------------------------- ------ 8.1/9.8 MB 347.4 kB/s eta 0:00:05\n",
      "   --------------------------------- ------ 8.1/9.8 MB 347.4 kB/s eta 0:00:05\n",
      "   --------------------------------- ------ 8.1/9.8 MB 347.4 kB/s eta 0:00:05\n",
      "   --------------------------------- ------ 8.1/9.8 MB 347.4 kB/s eta 0:00:05\n",
      "   --------------------------------- ------ 8.1/9.8 MB 347.4 kB/s eta 0:00:05\n",
      "   --------------------------------- ------ 8.1/9.8 MB 347.4 kB/s eta 0:00:05\n",
      "   --------------------------------- ------ 8.1/9.8 MB 347.4 kB/s eta 0:00:05\n",
      "   ---------------------------------- ----- 8.4/9.8 MB 317.5 kB/s eta 0:00:05\n",
      "   ---------------------------------- ----- 8.4/9.8 MB 317.5 kB/s eta 0:00:05\n",
      "   ---------------------------------- ----- 8.4/9.8 MB 317.5 kB/s eta 0:00:05\n",
      "   ---------------------------------- ----- 8.4/9.8 MB 317.5 kB/s eta 0:00:05\n",
      "   ---------------------------------- ----- 8.4/9.8 MB 317.5 kB/s eta 0:00:05\n",
      "   ---------------------------------- ----- 8.4/9.8 MB 317.5 kB/s eta 0:00:05\n",
      "   ---------------------------------- ----- 8.4/9.8 MB 317.5 kB/s eta 0:00:05\n",
      "   ---------------------------------- ----- 8.4/9.8 MB 317.5 kB/s eta 0:00:05\n",
      "   ---------------------------------- ----- 8.4/9.8 MB 317.5 kB/s eta 0:00:05\n",
      "   ---------------------------------- ----- 8.4/9.8 MB 317.5 kB/s eta 0:00:05\n",
      "   ---------------------------------- ----- 8.4/9.8 MB 317.5 kB/s eta 0:00:05\n",
      "   ----------------------------------- ---- 8.7/9.8 MB 299.6 kB/s eta 0:00:04\n",
      "   ----------------------------------- ---- 8.7/9.8 MB 299.6 kB/s eta 0:00:04\n",
      "   ----------------------------------- ---- 8.7/9.8 MB 299.6 kB/s eta 0:00:04\n",
      "   ----------------------------------- ---- 8.7/9.8 MB 299.6 kB/s eta 0:00:04\n",
      "   ----------------------------------- ---- 8.7/9.8 MB 299.6 kB/s eta 0:00:04\n",
      "   ----------------------------------- ---- 8.7/9.8 MB 299.6 kB/s eta 0:00:04\n",
      "   ----------------------------------- ---- 8.7/9.8 MB 299.6 kB/s eta 0:00:04\n",
      "   ----------------------------------- ---- 8.7/9.8 MB 299.6 kB/s eta 0:00:04\n",
      "   ----------------------------------- ---- 8.7/9.8 MB 299.6 kB/s eta 0:00:04\n",
      "   ------------------------------------ --- 8.9/9.8 MB 289.7 kB/s eta 0:00:04\n",
      "   ------------------------------------ --- 8.9/9.8 MB 289.7 kB/s eta 0:00:04\n",
      "   ------------------------------------ --- 8.9/9.8 MB 289.7 kB/s eta 0:00:04\n",
      "   ------------------------------------ --- 8.9/9.8 MB 289.7 kB/s eta 0:00:04\n",
      "   ------------------------------------ --- 8.9/9.8 MB 289.7 kB/s eta 0:00:04\n",
      "   ------------------------------------ --- 8.9/9.8 MB 289.7 kB/s eta 0:00:04\n",
      "   ------------------------------------- -- 9.2/9.8 MB 227.7 kB/s eta 0:00:03\n",
      "   ------------------------------------- -- 9.2/9.8 MB 227.7 kB/s eta 0:00:03\n",
      "   ------------------------------------- -- 9.2/9.8 MB 227.7 kB/s eta 0:00:03\n",
      "   ------------------------------------- -- 9.2/9.8 MB 227.7 kB/s eta 0:00:03\n",
      "   ------------------------------------- -- 9.2/9.8 MB 227.7 kB/s eta 0:00:03\n",
      "   ------------------------------------- -- 9.2/9.8 MB 227.7 kB/s eta 0:00:03\n",
      "   -------------------------------------- - 9.4/9.8 MB 184.1 kB/s eta 0:00:03\n",
      "   -------------------------------------- - 9.4/9.8 MB 184.1 kB/s eta 0:00:03\n",
      "   -------------------------------------- - 9.4/9.8 MB 184.1 kB/s eta 0:00:03\n",
      "   -------------------------------------- - 9.4/9.8 MB 184.1 kB/s eta 0:00:03\n",
      "   -------------------------------------- - 9.4/9.8 MB 184.1 kB/s eta 0:00:03\n",
      "   -------------------------------------- - 9.4/9.8 MB 184.1 kB/s eta 0:00:03\n",
      "   -------------------------------------- - 9.4/9.8 MB 184.1 kB/s eta 0:00:03\n",
      "   ---------------------------------------  9.7/9.8 MB 157.7 kB/s eta 0:00:01\n",
      "   ---------------------------------------  9.7/9.8 MB 157.7 kB/s eta 0:00:01\n",
      "   ---------------------------------------  9.7/9.8 MB 157.7 kB/s eta 0:00:01\n",
      "   ---------------------------------------  9.7/9.8 MB 157.7 kB/s eta 0:00:01\n",
      "   ---------------------------------------- 9.8/9.8 MB 145.1 kB/s eta 0:00:00\n",
      "Downloading patsy-0.5.6-py2.py3-none-any.whl (233 kB)\n",
      "Installing collected packages: patsy, statsmodels\n",
      "Successfully installed patsy-0.5.6 statsmodels-0.14.2\n",
      "Note: you may need to restart the kernel to use updated packages.\n"
     ]
    }
   ],
   "source": [
    "pip install statsmodels"
   ]
  },
  {
   "cell_type": "code",
   "execution_count": 26,
   "id": "004596e8-e20c-4b5a-abbb-d480637bdd5d",
   "metadata": {},
   "outputs": [],
   "source": [
    "import pandas as pd\n",
    "import numpy as np\n",
    "from scipy import stats\n",
    "import statsmodels.api as sm"
   ]
  },
  {
   "cell_type": "markdown",
   "id": "8f179321-16f0-4284-80a0-c5909a4bab40",
   "metadata": {},
   "source": [
    "- READ AND CONVERT HEART DISEASE DATASET INTO DATAFRAME :"
   ]
  },
  {
   "cell_type": "code",
   "execution_count": 2,
   "id": "17d32e91-dda4-4ec7-898a-bf8f9a696373",
   "metadata": {},
   "outputs": [],
   "source": [
    "data=pd.read_csv(\"heart_disease.csv\")"
   ]
  },
  {
   "cell_type": "code",
   "execution_count": 3,
   "id": "03877246-e22c-4574-ac25-49ebc3a1fc40",
   "metadata": {},
   "outputs": [
    {
     "data": {
      "text/html": [
       "<div>\n",
       "<style scoped>\n",
       "    .dataframe tbody tr th:only-of-type {\n",
       "        vertical-align: middle;\n",
       "    }\n",
       "\n",
       "    .dataframe tbody tr th {\n",
       "        vertical-align: top;\n",
       "    }\n",
       "\n",
       "    .dataframe thead th {\n",
       "        text-align: right;\n",
       "    }\n",
       "</style>\n",
       "<table border=\"1\" class=\"dataframe\">\n",
       "  <thead>\n",
       "    <tr style=\"text-align: right;\">\n",
       "      <th></th>\n",
       "      <th>age</th>\n",
       "      <th>sex</th>\n",
       "      <th>cp</th>\n",
       "      <th>trestbps</th>\n",
       "      <th>chol</th>\n",
       "      <th>fbs</th>\n",
       "      <th>restecg</th>\n",
       "      <th>thalach</th>\n",
       "      <th>exang</th>\n",
       "      <th>oldpeak</th>\n",
       "      <th>slope</th>\n",
       "      <th>ca</th>\n",
       "      <th>thal</th>\n",
       "      <th>target</th>\n",
       "    </tr>\n",
       "  </thead>\n",
       "  <tbody>\n",
       "    <tr>\n",
       "      <th>0</th>\n",
       "      <td>52</td>\n",
       "      <td>1</td>\n",
       "      <td>0</td>\n",
       "      <td>125</td>\n",
       "      <td>212</td>\n",
       "      <td>0</td>\n",
       "      <td>1</td>\n",
       "      <td>168</td>\n",
       "      <td>0</td>\n",
       "      <td>1.0</td>\n",
       "      <td>2</td>\n",
       "      <td>2</td>\n",
       "      <td>3</td>\n",
       "      <td>0</td>\n",
       "    </tr>\n",
       "    <tr>\n",
       "      <th>1</th>\n",
       "      <td>53</td>\n",
       "      <td>1</td>\n",
       "      <td>0</td>\n",
       "      <td>140</td>\n",
       "      <td>203</td>\n",
       "      <td>1</td>\n",
       "      <td>0</td>\n",
       "      <td>155</td>\n",
       "      <td>1</td>\n",
       "      <td>3.1</td>\n",
       "      <td>0</td>\n",
       "      <td>0</td>\n",
       "      <td>3</td>\n",
       "      <td>0</td>\n",
       "    </tr>\n",
       "    <tr>\n",
       "      <th>2</th>\n",
       "      <td>70</td>\n",
       "      <td>1</td>\n",
       "      <td>0</td>\n",
       "      <td>145</td>\n",
       "      <td>174</td>\n",
       "      <td>0</td>\n",
       "      <td>1</td>\n",
       "      <td>125</td>\n",
       "      <td>1</td>\n",
       "      <td>2.6</td>\n",
       "      <td>0</td>\n",
       "      <td>0</td>\n",
       "      <td>3</td>\n",
       "      <td>0</td>\n",
       "    </tr>\n",
       "    <tr>\n",
       "      <th>3</th>\n",
       "      <td>61</td>\n",
       "      <td>1</td>\n",
       "      <td>0</td>\n",
       "      <td>148</td>\n",
       "      <td>203</td>\n",
       "      <td>0</td>\n",
       "      <td>1</td>\n",
       "      <td>161</td>\n",
       "      <td>0</td>\n",
       "      <td>0.0</td>\n",
       "      <td>2</td>\n",
       "      <td>1</td>\n",
       "      <td>3</td>\n",
       "      <td>0</td>\n",
       "    </tr>\n",
       "    <tr>\n",
       "      <th>4</th>\n",
       "      <td>62</td>\n",
       "      <td>0</td>\n",
       "      <td>0</td>\n",
       "      <td>138</td>\n",
       "      <td>294</td>\n",
       "      <td>1</td>\n",
       "      <td>1</td>\n",
       "      <td>106</td>\n",
       "      <td>0</td>\n",
       "      <td>1.9</td>\n",
       "      <td>1</td>\n",
       "      <td>3</td>\n",
       "      <td>2</td>\n",
       "      <td>0</td>\n",
       "    </tr>\n",
       "    <tr>\n",
       "      <th>...</th>\n",
       "      <td>...</td>\n",
       "      <td>...</td>\n",
       "      <td>...</td>\n",
       "      <td>...</td>\n",
       "      <td>...</td>\n",
       "      <td>...</td>\n",
       "      <td>...</td>\n",
       "      <td>...</td>\n",
       "      <td>...</td>\n",
       "      <td>...</td>\n",
       "      <td>...</td>\n",
       "      <td>...</td>\n",
       "      <td>...</td>\n",
       "      <td>...</td>\n",
       "    </tr>\n",
       "    <tr>\n",
       "      <th>1020</th>\n",
       "      <td>59</td>\n",
       "      <td>1</td>\n",
       "      <td>1</td>\n",
       "      <td>140</td>\n",
       "      <td>221</td>\n",
       "      <td>0</td>\n",
       "      <td>1</td>\n",
       "      <td>164</td>\n",
       "      <td>1</td>\n",
       "      <td>0.0</td>\n",
       "      <td>2</td>\n",
       "      <td>0</td>\n",
       "      <td>2</td>\n",
       "      <td>1</td>\n",
       "    </tr>\n",
       "    <tr>\n",
       "      <th>1021</th>\n",
       "      <td>60</td>\n",
       "      <td>1</td>\n",
       "      <td>0</td>\n",
       "      <td>125</td>\n",
       "      <td>258</td>\n",
       "      <td>0</td>\n",
       "      <td>0</td>\n",
       "      <td>141</td>\n",
       "      <td>1</td>\n",
       "      <td>2.8</td>\n",
       "      <td>1</td>\n",
       "      <td>1</td>\n",
       "      <td>3</td>\n",
       "      <td>0</td>\n",
       "    </tr>\n",
       "    <tr>\n",
       "      <th>1022</th>\n",
       "      <td>47</td>\n",
       "      <td>1</td>\n",
       "      <td>0</td>\n",
       "      <td>110</td>\n",
       "      <td>275</td>\n",
       "      <td>0</td>\n",
       "      <td>0</td>\n",
       "      <td>118</td>\n",
       "      <td>1</td>\n",
       "      <td>1.0</td>\n",
       "      <td>1</td>\n",
       "      <td>1</td>\n",
       "      <td>2</td>\n",
       "      <td>0</td>\n",
       "    </tr>\n",
       "    <tr>\n",
       "      <th>1023</th>\n",
       "      <td>50</td>\n",
       "      <td>0</td>\n",
       "      <td>0</td>\n",
       "      <td>110</td>\n",
       "      <td>254</td>\n",
       "      <td>0</td>\n",
       "      <td>0</td>\n",
       "      <td>159</td>\n",
       "      <td>0</td>\n",
       "      <td>0.0</td>\n",
       "      <td>2</td>\n",
       "      <td>0</td>\n",
       "      <td>2</td>\n",
       "      <td>1</td>\n",
       "    </tr>\n",
       "    <tr>\n",
       "      <th>1024</th>\n",
       "      <td>54</td>\n",
       "      <td>1</td>\n",
       "      <td>0</td>\n",
       "      <td>120</td>\n",
       "      <td>188</td>\n",
       "      <td>0</td>\n",
       "      <td>1</td>\n",
       "      <td>113</td>\n",
       "      <td>0</td>\n",
       "      <td>1.4</td>\n",
       "      <td>1</td>\n",
       "      <td>1</td>\n",
       "      <td>3</td>\n",
       "      <td>0</td>\n",
       "    </tr>\n",
       "  </tbody>\n",
       "</table>\n",
       "<p>1025 rows × 14 columns</p>\n",
       "</div>"
      ],
      "text/plain": [
       "      age  sex  cp  trestbps  chol  fbs  restecg  thalach  exang  oldpeak  \\\n",
       "0      52    1   0       125   212    0        1      168      0      1.0   \n",
       "1      53    1   0       140   203    1        0      155      1      3.1   \n",
       "2      70    1   0       145   174    0        1      125      1      2.6   \n",
       "3      61    1   0       148   203    0        1      161      0      0.0   \n",
       "4      62    0   0       138   294    1        1      106      0      1.9   \n",
       "...   ...  ...  ..       ...   ...  ...      ...      ...    ...      ...   \n",
       "1020   59    1   1       140   221    0        1      164      1      0.0   \n",
       "1021   60    1   0       125   258    0        0      141      1      2.8   \n",
       "1022   47    1   0       110   275    0        0      118      1      1.0   \n",
       "1023   50    0   0       110   254    0        0      159      0      0.0   \n",
       "1024   54    1   0       120   188    0        1      113      0      1.4   \n",
       "\n",
       "      slope  ca  thal  target  \n",
       "0         2   2     3       0  \n",
       "1         0   0     3       0  \n",
       "2         0   0     3       0  \n",
       "3         2   1     3       0  \n",
       "4         1   3     2       0  \n",
       "...     ...  ..   ...     ...  \n",
       "1020      2   0     2       1  \n",
       "1021      1   1     3       0  \n",
       "1022      1   1     2       0  \n",
       "1023      2   0     2       1  \n",
       "1024      1   1     3       0  \n",
       "\n",
       "[1025 rows x 14 columns]"
      ]
     },
     "execution_count": 3,
     "metadata": {},
     "output_type": "execute_result"
    }
   ],
   "source": [
    "# dataset\n",
    "df=pd.DataFrame(data)\n",
    "df"
   ]
  },
  {
   "cell_type": "markdown",
   "id": "48755ecb-6505-4891-8476-51c38799e70a",
   "metadata": {},
   "source": [
    "- FEATURES :\n",
    "  ['age', 'sex', 'chest_pain_type' (\"cp\"), 'resting_blood_pressure'(\"trestbps\"), 'cholesterol'(\"chol\"), 'fasting_blood_sugar'('fbs'), 'rest_ecg', 'max_heart_rate_achieved','exercise_induced_angina'(\"exang\"), 'st_depression', 'st_slope'(\"slope\"), 'num_major_vessels', 'thalassemia'(\"thal\"), 'condition']\n",
    "  \t"
   ]
  },
  {
   "cell_type": "markdown",
   "id": "46474683-4e56-4f7e-8f54-283120b71744",
   "metadata": {},
   "source": [
    "- PERFORMING DESCRIPTIVE STATISTICS :"
   ]
  },
  {
   "cell_type": "code",
   "execution_count": 4,
   "id": "d539e409-705f-4e7a-9770-13db50c57a17",
   "metadata": {},
   "outputs": [
    {
     "name": "stdout",
     "output_type": "stream",
     "text": [
      "Mean:\n",
      " age          54.434146\n",
      "sex           0.695610\n",
      "cp            0.942439\n",
      "trestbps    131.611707\n",
      "chol        246.000000\n",
      "fbs           0.149268\n",
      "restecg       0.529756\n",
      "thalach     149.114146\n",
      "exang         0.336585\n",
      "oldpeak       1.071512\n",
      "slope         1.385366\n",
      "ca            0.754146\n",
      "thal          2.323902\n",
      "target        0.513171\n",
      "dtype: float64\n"
     ]
    }
   ],
   "source": [
    "# 1. MEAN\n",
    "print(\"Mean:\\n\", df.mean())"
   ]
  },
  {
   "cell_type": "code",
   "execution_count": 5,
   "id": "fd75f5e8-d626-4e53-8e12-bebd9762db5b",
   "metadata": {},
   "outputs": [
    {
     "name": "stdout",
     "output_type": "stream",
     "text": [
      "\n",
      "Median:\n",
      " age          56.0\n",
      "sex           1.0\n",
      "cp            1.0\n",
      "trestbps    130.0\n",
      "chol        240.0\n",
      "fbs           0.0\n",
      "restecg       1.0\n",
      "thalach     152.0\n",
      "exang         0.0\n",
      "oldpeak       0.8\n",
      "slope         1.0\n",
      "ca            0.0\n",
      "thal          2.0\n",
      "target        1.0\n",
      "dtype: float64\n"
     ]
    }
   ],
   "source": [
    "# 2. MEDIAN\n",
    "print(\"\\nMedian:\\n\", df.median())"
   ]
  },
  {
   "cell_type": "code",
   "execution_count": 6,
   "id": "75a08375-58fc-4bcc-91be-aa95d15b7ba6",
   "metadata": {},
   "outputs": [
    {
     "name": "stdout",
     "output_type": "stream",
     "text": [
      "\n",
      "Mode:\n",
      " age          58.0\n",
      "sex           1.0\n",
      "cp            0.0\n",
      "trestbps    120.0\n",
      "chol        204.0\n",
      "fbs           0.0\n",
      "restecg       1.0\n",
      "thalach     162.0\n",
      "exang         0.0\n",
      "oldpeak       0.0\n",
      "slope         1.0\n",
      "ca            0.0\n",
      "thal          2.0\n",
      "target        1.0\n",
      "Name: 0, dtype: float64\n"
     ]
    }
   ],
   "source": [
    "# 3.MODE\n",
    "print(\"\\nMode:\\n\", df.mode().iloc[0])"
   ]
  },
  {
   "cell_type": "code",
   "execution_count": 7,
   "id": "ccd9f7f9-9b4f-41d4-a176-6ff843ce13ef",
   "metadata": {},
   "outputs": [
    {
     "name": "stdout",
     "output_type": "stream",
     "text": [
      "\n",
      "Range:\n",
      " age          48.0\n",
      "sex           1.0\n",
      "cp            3.0\n",
      "trestbps    106.0\n",
      "chol        438.0\n",
      "fbs           1.0\n",
      "restecg       2.0\n",
      "thalach     131.0\n",
      "exang         1.0\n",
      "oldpeak       6.2\n",
      "slope         2.0\n",
      "ca            4.0\n",
      "thal          3.0\n",
      "target        1.0\n",
      "dtype: float64\n"
     ]
    }
   ],
   "source": [
    "# 4.RANGE\n",
    "print(\"\\nRange:\\n\", df.max() - df.min())"
   ]
  },
  {
   "cell_type": "code",
   "execution_count": 8,
   "id": "4c545572-8f7a-4232-a07b-fb5ced26779e",
   "metadata": {},
   "outputs": [
    {
     "name": "stdout",
     "output_type": "stream",
     "text": [
      "\n",
      "Variance:\n",
      " age           82.306450\n",
      "sex            0.211944\n",
      "cp             1.060160\n",
      "trestbps     306.835410\n",
      "chol        2661.787109\n",
      "fbs            0.127111\n",
      "restecg        0.278655\n",
      "thalach      529.263325\n",
      "exang          0.223514\n",
      "oldpeak        1.380750\n",
      "slope          0.381622\n",
      "ca             1.062544\n",
      "thal           0.385219\n",
      "target         0.250071\n",
      "dtype: float64\n"
     ]
    }
   ],
   "source": [
    "# 5.VARIANCE\n",
    "print(\"\\nVariance:\\n\", df.var())"
   ]
  },
  {
   "cell_type": "code",
   "execution_count": 9,
   "id": "07f5ffb4-16e5-4023-a0c6-53a5586ee45e",
   "metadata": {},
   "outputs": [
    {
     "name": "stdout",
     "output_type": "stream",
     "text": [
      "\n",
      "Standard Deviation:\n",
      " age          9.072290\n",
      "sex          0.460373\n",
      "cp           1.029641\n",
      "trestbps    17.516718\n",
      "chol        51.592510\n",
      "fbs          0.356527\n",
      "restecg      0.527878\n",
      "thalach     23.005724\n",
      "exang        0.472772\n",
      "oldpeak      1.175053\n",
      "slope        0.617755\n",
      "ca           1.030798\n",
      "thal         0.620660\n",
      "target       0.500070\n",
      "dtype: float64\n"
     ]
    }
   ],
   "source": [
    " # 6.STANDARD DEVIATION\n",
    "print(\"\\nStandard Deviation:\\n\", df.std())"
   ]
  },
  {
   "cell_type": "code",
   "execution_count": 10,
   "id": "26bd7e69-2bce-4a68-9518-5b11f89c3eb7",
   "metadata": {},
   "outputs": [
    {
     "name": "stdout",
     "output_type": "stream",
     "text": [
      "\n",
      "Skewness:\n",
      " age        -0.248866\n",
      "sex        -0.851449\n",
      "cp          0.529455\n",
      "trestbps    0.739768\n",
      "chol        1.074073\n",
      "fbs         1.971339\n",
      "restecg     0.180440\n",
      "thalach    -0.513777\n",
      "exang       0.692655\n",
      "oldpeak     1.210899\n",
      "slope      -0.479134\n",
      "ca          1.261189\n",
      "thal       -0.524390\n",
      "target     -0.052778\n",
      "dtype: float64\n"
     ]
    }
   ],
   "source": [
    " # 7. SKEWNESS\n",
    "print(\"\\nSkewness:\\n\", df.skew())"
   ]
  },
  {
   "cell_type": "code",
   "execution_count": 11,
   "id": "83cdb58a-67b4-41e6-90b0-68e7fd01f5c3",
   "metadata": {},
   "outputs": [
    {
     "name": "stdout",
     "output_type": "stream",
     "text": [
      "\n",
      "Kurtosis:\n",
      " age        -0.525618\n",
      "sex        -1.277531\n",
      "cp         -1.149500\n",
      "trestbps    0.991221\n",
      "chol        3.996803\n",
      "fbs         1.889859\n",
      "restecg    -1.309614\n",
      "thalach    -0.088822\n",
      "exang      -1.523205\n",
      "oldpeak     1.314471\n",
      "slope      -0.647129\n",
      "ca          0.701123\n",
      "thal        0.250827\n",
      "target     -2.001123\n",
      "dtype: float64\n"
     ]
    }
   ],
   "source": [
    "# 8.KURTOSIS\n",
    "print(\"\\nKurtosis:\\n\", df.kurt())"
   ]
  },
  {
   "cell_type": "code",
   "execution_count": 12,
   "id": "81d5f1a4-ad73-476e-9a6e-31e976889e97",
   "metadata": {},
   "outputs": [
    {
     "name": "stdout",
     "output_type": "stream",
     "text": [
      "\n",
      "Percentiles for 'age':\n",
      "25th percentile: 48.0\n",
      "50th percentile: 56.0\n",
      "75th percentile: 61.0\n",
      "\n",
      "Percentiles for 'chol':\n",
      "25th percentile: 211.0\n",
      "50th percentile: 240.0\n",
      "75th percentile: 275.0\n"
     ]
    }
   ],
   "source": [
    "# 9. PERCENTILES\n",
    "numeric_columns = ['age', 'chol']  \n",
    "percentiles = [25, 50, 75]\n",
    "\n",
    "for column in numeric_columns:\n",
    "    print(f\"\\nPercentiles for '{column}':\")\n",
    "    for percentile in percentiles:\n",
    "        value = np.percentile(df[column].dropna(), percentile)\n",
    "        print(f\"{percentile}th percentile: {value}\")"
   ]
  },
  {
   "cell_type": "code",
   "execution_count": 13,
   "id": "1aed8a4f-d18e-4a43-8df5-8511287b5ce6",
   "metadata": {},
   "outputs": [
    {
     "name": "stdout",
     "output_type": "stream",
     "text": [
      "Quartiles for all numerical columns:\n",
      "       age  sex   cp  trestbps   chol  fbs  restecg  thalach  exang  oldpeak  \\\n",
      "0.25  48.0  0.0  0.0     120.0  211.0  0.0      0.0    132.0    0.0      0.0   \n",
      "0.50  56.0  1.0  1.0     130.0  240.0  0.0      1.0    152.0    0.0      0.8   \n",
      "0.75  61.0  1.0  2.0     140.0  275.0  0.0      1.0    166.0    1.0      1.8   \n",
      "\n",
      "      slope   ca  thal  target  \n",
      "0.25    1.0  0.0   2.0     0.0  \n",
      "0.50    1.0  0.0   2.0     1.0  \n",
      "0.75    2.0  1.0   3.0     1.0  \n"
     ]
    }
   ],
   "source": [
    "# 10. QUARTILES \n",
    "quartiles = df.quantile([0.25, 0.5, 0.75])\n",
    "print(\"Quartiles for all numerical columns:\")\n",
    "print(quartiles)"
   ]
  },
  {
   "cell_type": "markdown",
   "id": "c58177a0-54fe-4873-abaa-67571280b36d",
   "metadata": {},
   "source": [
    "- PERFORMING INFERENTIAL STATISTICS :"
   ]
  },
  {
   "cell_type": "markdown",
   "id": "a34f364a-d742-4273-84e5-dee95be791e5",
   "metadata": {},
   "source": [
    "HYPOTHESIS TESTING :\n",
    "\n",
    "Null hypothesis : The mean cholesterol is 200 mg/dL\n"
   ]
  },
  {
   "cell_type": "code",
   "execution_count": 15,
   "id": "89f655a7-10a4-42ab-a1ec-e5a693d2944c",
   "metadata": {},
   "outputs": [
    {
     "name": "stdout",
     "output_type": "stream",
     "text": [
      "T-statistic: 28.54520101317123\n",
      "P-value: 2.5197710109776723e-132\n",
      "Reject the null hypothesis (H₀): There is a significant difference in mean cholesterol from 200 mg/dL.\n"
     ]
    }
   ],
   "source": [
    "t_stat, p_value = stats.ttest_1samp(df['chol'], 200)\n",
    "\n",
    "# Print the t-statistic and p-value\n",
    "print(f\"T-statistic: {t_stat}\")\n",
    "print(f\"P-value: {p_value}\")\n",
    "\n",
    "# Decision based on p-value\n",
    "alpha = 0.05\n",
    "if p_value < alpha:\n",
    "    print(\"Reject the null hypothesis (H₀): There is a significant difference in mean cholesterol from 200 mg/dL.\")\n",
    "else:\n",
    "    print(\"Fail to reject the null hypothesis (H₀): There is no significant difference in mean cholesterol from 200 mg/dL.\")"
   ]
  },
  {
   "cell_type": "markdown",
   "id": "bc0b90b9-1d25-4aba-999c-d3edd00ff5b4",
   "metadata": {},
   "source": [
    "CONFIDENCE INTERVAL :"
   ]
  },
  {
   "cell_type": "code",
   "execution_count": 17,
   "id": "94568247-3bc9-42a0-80ea-d86af0763beb",
   "metadata": {},
   "outputs": [
    {
     "name": "stdout",
     "output_type": "stream",
     "text": [
      "Mean Cholesterol: 246.00\n",
      "95% Confidence Interval: (242.84, 249.16)\n"
     ]
    }
   ],
   "source": [
    "import pandas as pd\n",
    "import numpy as np\n",
    "from scipy import stats\n",
    "\n",
    "# Load the dataset\n",
    "df = pd.read_csv('heart_disease.csv')\n",
    "\n",
    "# Let's assume the column 'cholesterol' contains cholesterol levels\n",
    "cholesterol_data = df['chol']\n",
    "# Sample mean\n",
    "mean_cholesterol = np.mean(cholesterol_data)\n",
    "# Sample standard deviation\n",
    "std_cholesterol = np.std(cholesterol_data, ddof=1)  # ddof=1 to get sample standard deviation\n",
    "# Sample size\n",
    "n = len(cholesterol_data)\n",
    "\n",
    "# Confidence level (for 95% CI, the Z-score is approximately 1.96)\n",
    "confidence_level = 0.95\n",
    "z_score = stats.norm.ppf(1 - (1 - confidence_level) / 2)\n",
    "\n",
    "# Calculate the margin of error\n",
    "margin_of_error = z_score * (std_cholesterol / np.sqrt(n))\n",
    "\n",
    "# Confidence interval\n",
    "lower_bound = mean_cholesterol - margin_of_error\n",
    "upper_bound = mean_cholesterol + margin_of_error\n",
    "\n",
    "# Print results\n",
    "print(f\"Mean Cholesterol: {mean_cholesterol:.2f}\")\n",
    "print(f\"95% Confidence Interval: ({lower_bound:.2f}, {upper_bound:.2f})\")\n"
   ]
  },
  {
   "cell_type": "markdown",
   "id": "88905e5f-243f-48d6-ab9f-0ab761d211cc",
   "metadata": {},
   "source": [
    "CORRELATION :"
   ]
  },
  {
   "cell_type": "code",
   "execution_count": 19,
   "id": "e6e3da4b-77ef-4374-a511-e67e09376ba4",
   "metadata": {},
   "outputs": [
    {
     "name": "stdout",
     "output_type": "stream",
     "text": [
      "Correlation between Age and Cholesterol: 0.21982253466576027\n",
      "               age       sex        cp  trestbps      chol       fbs  \\\n",
      "age       1.000000 -0.103240 -0.071966  0.271121  0.219823  0.121243   \n",
      "sex      -0.103240  1.000000 -0.041119 -0.078974 -0.198258  0.027200   \n",
      "cp       -0.071966 -0.041119  1.000000  0.038177 -0.081641  0.079294   \n",
      "trestbps  0.271121 -0.078974  0.038177  1.000000  0.127977  0.181767   \n",
      "chol      0.219823 -0.198258 -0.081641  0.127977  1.000000  0.026917   \n",
      "fbs       0.121243  0.027200  0.079294  0.181767  0.026917  1.000000   \n",
      "restecg  -0.132696 -0.055117  0.043581 -0.123794 -0.147410 -0.104051   \n",
      "thalach  -0.390227 -0.049365  0.306839 -0.039264 -0.021772 -0.008866   \n",
      "exang     0.088163  0.139157 -0.401513  0.061197  0.067382  0.049261   \n",
      "oldpeak   0.208137  0.084687 -0.174733  0.187434  0.064880  0.010859   \n",
      "slope    -0.169105 -0.026666  0.131633 -0.120445 -0.014248 -0.061902   \n",
      "ca        0.271551  0.111729 -0.176206  0.104554  0.074259  0.137156   \n",
      "thal      0.072297  0.198424 -0.163341  0.059276  0.100244 -0.042177   \n",
      "target   -0.229324 -0.279501  0.434854 -0.138772 -0.099966 -0.041164   \n",
      "\n",
      "           restecg   thalach     exang   oldpeak     slope        ca  \\\n",
      "age      -0.132696 -0.390227  0.088163  0.208137 -0.169105  0.271551   \n",
      "sex      -0.055117 -0.049365  0.139157  0.084687 -0.026666  0.111729   \n",
      "cp        0.043581  0.306839 -0.401513 -0.174733  0.131633 -0.176206   \n",
      "trestbps -0.123794 -0.039264  0.061197  0.187434 -0.120445  0.104554   \n",
      "chol     -0.147410 -0.021772  0.067382  0.064880 -0.014248  0.074259   \n",
      "fbs      -0.104051 -0.008866  0.049261  0.010859 -0.061902  0.137156   \n",
      "restecg   1.000000  0.048411 -0.065606 -0.050114  0.086086 -0.078072   \n",
      "thalach   0.048411  1.000000 -0.380281 -0.349796  0.395308 -0.207888   \n",
      "exang    -0.065606 -0.380281  1.000000  0.310844 -0.267335  0.107849   \n",
      "oldpeak  -0.050114 -0.349796  0.310844  1.000000 -0.575189  0.221816   \n",
      "slope     0.086086  0.395308 -0.267335 -0.575189  1.000000 -0.073440   \n",
      "ca       -0.078072 -0.207888  0.107849  0.221816 -0.073440  1.000000   \n",
      "thal     -0.020504 -0.098068  0.197201  0.202672 -0.094090  0.149014   \n",
      "target    0.134468  0.422895 -0.438029 -0.438441  0.345512 -0.382085   \n",
      "\n",
      "              thal    target  \n",
      "age       0.072297 -0.229324  \n",
      "sex       0.198424 -0.279501  \n",
      "cp       -0.163341  0.434854  \n",
      "trestbps  0.059276 -0.138772  \n",
      "chol      0.100244 -0.099966  \n",
      "fbs      -0.042177 -0.041164  \n",
      "restecg  -0.020504  0.134468  \n",
      "thalach  -0.098068  0.422895  \n",
      "exang     0.197201 -0.438029  \n",
      "oldpeak   0.202672 -0.438441  \n",
      "slope    -0.094090  0.345512  \n",
      "ca        0.149014 -0.382085  \n",
      "thal      1.000000 -0.337838  \n",
      "target   -0.337838  1.000000  \n"
     ]
    }
   ],
   "source": [
    "# Calculate correlation between 'age' and 'cholesterol'\n",
    "correlation = df['age'].corr(df['chol'])\n",
    "print(f\"Correlation between Age and Cholesterol: {correlation}\")\n",
    "\n",
    "# Correlation matrix for all numerical variables\n",
    "print(df.corr())"
   ]
  },
  {
   "cell_type": "markdown",
   "id": "63026b6d-c332-422f-811e-083036837129",
   "metadata": {},
   "source": [
    "REGRESSION ANALYSIS :"
   ]
  },
  {
   "cell_type": "code",
   "execution_count": 27,
   "id": "0bb9359b-0626-4df3-85f9-db8b3d8bf968",
   "metadata": {
    "scrolled": true
   },
   "outputs": [
    {
     "name": "stdout",
     "output_type": "stream",
     "text": [
      "                            OLS Regression Results                            \n",
      "==============================================================================\n",
      "Dep. Variable:               trestbps   R-squared:                       0.016\n",
      "Model:                            OLS   Adj. R-squared:                  0.015\n",
      "Method:                 Least Squares   F-statistic:                     17.03\n",
      "Date:                Sun, 08 Sep 2024   Prob (F-statistic):           3.97e-05\n",
      "Time:                        20:09:31   Log-Likelihood:                -4380.2\n",
      "No. Observations:                1025   AIC:                             8764.\n",
      "Df Residuals:                    1023   BIC:                             8774.\n",
      "Df Model:                           1                                         \n",
      "Covariance Type:            nonrobust                                         \n",
      "==============================================================================\n",
      "                 coef    std err          t      P>|t|      [0.025      0.975]\n",
      "------------------------------------------------------------------------------\n",
      "const        120.9228      2.646     45.698      0.000     115.730     126.115\n",
      "chol           0.0435      0.011      4.127      0.000       0.023       0.064\n",
      "==============================================================================\n",
      "Omnibus:                       87.715   Durbin-Watson:                   1.905\n",
      "Prob(Omnibus):                  0.000   Jarque-Bera (JB):              115.227\n",
      "Skew:                           0.705   Prob(JB):                     9.52e-26\n",
      "Kurtosis:                       3.843   Cond. No.                     1.23e+03\n",
      "==============================================================================\n",
      "\n",
      "Notes:\n",
      "[1] Standard Errors assume that the covariance matrix of the errors is correctly specified.\n",
      "[2] The condition number is large, 1.23e+03. This might indicate that there are\n",
      "strong multicollinearity or other numerical problems.\n"
     ]
    }
   ],
   "source": [
    "X = df[['chol']]  # Predictor variable\n",
    "y = df['trestbps']  # Response variable\n",
    "\n",
    "# Add a constant to the model (intercept)\n",
    "X = sm.add_constant(X)\n",
    "\n",
    "# Fit the model\n",
    "model = sm.OLS(y, X).fit()\n",
    "\n",
    "# Print the summary of the model\n",
    "print(model.summary())"
   ]
  },
  {
   "cell_type": "markdown",
   "id": "299676ce-5d08-4b25-9ec4-a5de367cacf0",
   "metadata": {},
   "source": [
    "CONCLUSION :\n",
    "-"
   ]
  },
  {
   "cell_type": "markdown",
   "id": "3adcb88f-10b7-4540-b65d-48a36afa9cff",
   "metadata": {},
   "source": [
    "- Descriptive statistics offer insight into the distribution and central tendency of data.\n",
    "- Confidence intervals provide a range for estimated population parameters.\n",
    "- Hypothesis testing helps evaluate whether observed deviations from expected values are statistically significant. (It helps determine whether observed data deviates significantly from what is expected under a null hypothesis).\n",
    "- Regression analysis models relationships between predictors and outcomes, providing valuable insights for prediction and understanding of factors influencing heart disease."
   ]
  },
  {
   "cell_type": "markdown",
   "id": "b06e61c9-bfe4-4791-9617-f7a589e3b726",
   "metadata": {},
   "source": [
    "By applying these statistical methods, we gain a comprehensive understanding of the heart disease dataset. We can make informed decisions about health interventions, understand risk factors, and identify areas for further research. Each method contributes to a holistic view of the dataset, aiding in effective data-driven decisions."
   ]
  }
 ],
 "metadata": {
  "kernelspec": {
   "display_name": "Python 3 (ipykernel)",
   "language": "python",
   "name": "python3"
  },
  "language_info": {
   "codemirror_mode": {
    "name": "ipython",
    "version": 3
   },
   "file_extension": ".py",
   "mimetype": "text/x-python",
   "name": "python",
   "nbconvert_exporter": "python",
   "pygments_lexer": "ipython3",
   "version": "3.12.3"
  }
 },
 "nbformat": 4,
 "nbformat_minor": 5
}
